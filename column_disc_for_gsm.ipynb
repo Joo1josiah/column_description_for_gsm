{
 "cells": [
  {
   "cell_type": "markdown",
   "metadata": {},
   "source": [
    "Column_description for GSM table\n"
   ]
  },
  {
   "cell_type": "markdown",
   "metadata": {},
   "source": [
    "1. installing and importing neccessary dependancies"
   ]
  },
  {
   "cell_type": "code",
   "execution_count": 1,
   "metadata": {},
   "outputs": [
    {
     "name": "stdout",
     "output_type": "stream",
     "text": [
      "Requirement already satisfied: GEOparse in c:\\users\\hp\\column_description_for_gsm\\venv\\lib\\site-packages (2.0.4)\n",
      "Requirement already satisfied: numpy>=1.7 in c:\\users\\hp\\column_description_for_gsm\\venv\\lib\\site-packages (from GEOparse) (2.2.4)\n",
      "Requirement already satisfied: pandas>=0.17 in c:\\users\\hp\\column_description_for_gsm\\venv\\lib\\site-packages (from GEOparse) (2.2.3)\n",
      "Requirement already satisfied: requests>=2.21.0 in c:\\users\\hp\\column_description_for_gsm\\venv\\lib\\site-packages (from GEOparse) (2.32.3)\n",
      "Requirement already satisfied: tqdm>=4.31.1 in c:\\users\\hp\\column_description_for_gsm\\venv\\lib\\site-packages (from GEOparse) (4.67.1)\n",
      "Requirement already satisfied: python-dateutil>=2.8.2 in c:\\users\\hp\\column_description_for_gsm\\venv\\lib\\site-packages (from pandas>=0.17->GEOparse) (2.9.0.post0)\n",
      "Requirement already satisfied: pytz>=2020.1 in c:\\users\\hp\\column_description_for_gsm\\venv\\lib\\site-packages (from pandas>=0.17->GEOparse) (2025.1)\n",
      "Requirement already satisfied: tzdata>=2022.7 in c:\\users\\hp\\column_description_for_gsm\\venv\\lib\\site-packages (from pandas>=0.17->GEOparse) (2025.1)\n",
      "Requirement already satisfied: charset-normalizer<4,>=2 in c:\\users\\hp\\column_description_for_gsm\\venv\\lib\\site-packages (from requests>=2.21.0->GEOparse) (3.4.1)\n",
      "Requirement already satisfied: idna<4,>=2.5 in c:\\users\\hp\\column_description_for_gsm\\venv\\lib\\site-packages (from requests>=2.21.0->GEOparse) (3.10)\n",
      "Requirement already satisfied: urllib3<3,>=1.21.1 in c:\\users\\hp\\column_description_for_gsm\\venv\\lib\\site-packages (from requests>=2.21.0->GEOparse) (2.3.0)\n",
      "Requirement already satisfied: certifi>=2017.4.17 in c:\\users\\hp\\column_description_for_gsm\\venv\\lib\\site-packages (from requests>=2.21.0->GEOparse) (2025.1.31)\n",
      "Requirement already satisfied: colorama in c:\\users\\hp\\column_description_for_gsm\\venv\\lib\\site-packages (from tqdm>=4.31.1->GEOparse) (0.4.6)\n",
      "Requirement already satisfied: six>=1.5 in c:\\users\\hp\\column_description_for_gsm\\venv\\lib\\site-packages (from python-dateutil>=2.8.2->pandas>=0.17->GEOparse) (1.17.0)\n",
      "Note: you may need to restart the kernel to use updated packages.\n"
     ]
    },
    {
     "name": "stderr",
     "output_type": "stream",
     "text": [
      "\n",
      "[notice] A new release of pip available: 22.3.1 -> 25.0.1\n",
      "[notice] To update, run: python.exe -m pip install --upgrade pip\n"
     ]
    }
   ],
   "source": [
    "pip install GEOparse"
   ]
  },
  {
   "cell_type": "code",
   "execution_count": 2,
   "metadata": {},
   "outputs": [
    {
     "name": "stdout",
     "output_type": "stream",
     "text": [
      "Requirement already satisfied: bs4 in c:\\users\\hp\\column_description_for_gsm\\venv\\lib\\site-packages (0.0.2)\n",
      "Requirement already satisfied: beautifulsoup4 in c:\\users\\hp\\column_description_for_gsm\\venv\\lib\\site-packages (from bs4) (4.13.3)\n",
      "Requirement already satisfied: soupsieve>1.2 in c:\\users\\hp\\column_description_for_gsm\\venv\\lib\\site-packages (from beautifulsoup4->bs4) (2.6)\n",
      "Requirement already satisfied: typing-extensions>=4.0.0 in c:\\users\\hp\\column_description_for_gsm\\venv\\lib\\site-packages (from beautifulsoup4->bs4) (4.12.2)\n",
      "Note: you may need to restart the kernel to use updated packages.\n"
     ]
    },
    {
     "name": "stderr",
     "output_type": "stream",
     "text": [
      "\n",
      "[notice] A new release of pip available: 22.3.1 -> 25.0.1\n",
      "[notice] To update, run: python.exe -m pip install --upgrade pip\n"
     ]
    }
   ],
   "source": [
    "pip install bs4"
   ]
  },
  {
   "cell_type": "code",
   "execution_count": 3,
   "metadata": {},
   "outputs": [],
   "source": [
    "import GEOparse\n",
    "import os\n",
    "import pandas as pd\n",
    "import json"
   ]
  },
  {
   "cell_type": "markdown",
   "metadata": {},
   "source": [
    "2. download and preprocess the dataset.<br>\n",
    "it includes:<br>\n",
    "        -downloading a single GSE data from GEO by using its ID.<br>\n",
    "        -saving its metadata to a separate json file.<br>\n",
    "             -iterate through all GSM files to extract and save the respective metadata.<br>\n",
    "             -visualize one GSM sample to familirize the data.<br>\n",
    "             -store the table data of all GSMs in an exel file."
   ]
  },
  {
   "cell_type": "code",
   "execution_count": 4,
   "metadata": {},
   "outputs": [
    {
     "name": "stderr",
     "output_type": "stream",
     "text": [
      "20-Mar-2025 13:33:41 DEBUG utils - Directory ./ already exists. Skipping.\n",
      "20-Mar-2025 13:33:41 INFO GEOparse - File already exist: using local version.\n",
      "20-Mar-2025 13:33:41 INFO GEOparse - Parsing ./GSE1563_family.soft.gz: \n",
      "20-Mar-2025 13:33:41 DEBUG GEOparse - DATABASE: GeoMiame\n",
      "20-Mar-2025 13:33:41 DEBUG GEOparse - SERIES: GSE1563\n",
      "20-Mar-2025 13:33:41 DEBUG GEOparse - PLATFORM: GPL8300\n",
      "20-Mar-2025 13:33:43 DEBUG GEOparse - SAMPLE: GSM26805\n",
      "20-Mar-2025 13:33:43 DEBUG GEOparse - SAMPLE: GSM26806\n",
      "20-Mar-2025 13:33:43 DEBUG GEOparse - SAMPLE: GSM26807\n",
      "20-Mar-2025 13:33:43 DEBUG GEOparse - SAMPLE: GSM26808\n",
      "20-Mar-2025 13:33:44 DEBUG GEOparse - SAMPLE: GSM26809\n",
      "20-Mar-2025 13:33:44 DEBUG GEOparse - SAMPLE: GSM26810\n",
      "20-Mar-2025 13:33:44 DEBUG GEOparse - SAMPLE: GSM26811\n",
      "20-Mar-2025 13:33:44 DEBUG GEOparse - SAMPLE: GSM26812\n",
      "20-Mar-2025 13:33:44 DEBUG GEOparse - SAMPLE: GSM26813\n",
      "20-Mar-2025 13:33:44 DEBUG GEOparse - SAMPLE: GSM26814\n",
      "20-Mar-2025 13:33:44 DEBUG GEOparse - SAMPLE: GSM26815\n",
      "20-Mar-2025 13:33:45 DEBUG GEOparse - SAMPLE: GSM26816\n",
      "20-Mar-2025 13:33:45 DEBUG GEOparse - SAMPLE: GSM26817\n",
      "20-Mar-2025 13:33:45 DEBUG GEOparse - SAMPLE: GSM26818\n",
      "20-Mar-2025 13:33:45 DEBUG GEOparse - SAMPLE: GSM26819\n",
      "20-Mar-2025 13:33:45 DEBUG GEOparse - SAMPLE: GSM26820\n",
      "20-Mar-2025 13:33:45 DEBUG GEOparse - SAMPLE: GSM26821\n",
      "20-Mar-2025 13:33:46 DEBUG GEOparse - SAMPLE: GSM26822\n",
      "20-Mar-2025 13:33:46 DEBUG GEOparse - SAMPLE: GSM26823\n",
      "20-Mar-2025 13:33:46 DEBUG GEOparse - SAMPLE: GSM26824\n",
      "20-Mar-2025 13:33:46 DEBUG GEOparse - SAMPLE: GSM26825\n",
      "20-Mar-2025 13:33:46 DEBUG GEOparse - SAMPLE: GSM26826\n",
      "20-Mar-2025 13:33:47 DEBUG GEOparse - SAMPLE: GSM26827\n",
      "20-Mar-2025 13:33:47 DEBUG GEOparse - SAMPLE: GSM26828\n",
      "20-Mar-2025 13:33:47 DEBUG GEOparse - SAMPLE: GSM26829\n",
      "20-Mar-2025 13:33:47 DEBUG GEOparse - SAMPLE: GSM26830\n",
      "20-Mar-2025 13:33:47 DEBUG GEOparse - SAMPLE: GSM26831\n",
      "20-Mar-2025 13:33:48 DEBUG GEOparse - SAMPLE: GSM26832\n",
      "20-Mar-2025 13:33:48 DEBUG GEOparse - SAMPLE: GSM26833\n",
      "20-Mar-2025 13:33:48 DEBUG GEOparse - SAMPLE: GSM26834\n",
      "20-Mar-2025 13:33:48 DEBUG GEOparse - SAMPLE: GSM26835\n",
      "20-Mar-2025 13:33:48 DEBUG GEOparse - SAMPLE: GSM26836\n",
      "20-Mar-2025 13:33:48 DEBUG GEOparse - SAMPLE: GSM26837\n",
      "20-Mar-2025 13:33:49 DEBUG GEOparse - SAMPLE: GSM26838\n",
      "20-Mar-2025 13:33:49 DEBUG GEOparse - SAMPLE: GSM26839\n",
      "20-Mar-2025 13:33:49 DEBUG GEOparse - SAMPLE: GSM26840\n",
      "20-Mar-2025 13:33:49 DEBUG GEOparse - SAMPLE: GSM26841\n",
      "20-Mar-2025 13:33:49 DEBUG GEOparse - SAMPLE: GSM26842\n",
      "20-Mar-2025 13:33:49 DEBUG GEOparse - SAMPLE: GSM26843\n",
      "20-Mar-2025 13:33:50 DEBUG GEOparse - SAMPLE: GSM26844\n",
      "20-Mar-2025 13:33:50 DEBUG GEOparse - SAMPLE: GSM26845\n",
      "20-Mar-2025 13:33:50 DEBUG GEOparse - SAMPLE: GSM26846\n",
      "20-Mar-2025 13:33:50 DEBUG GEOparse - SAMPLE: GSM26847\n",
      "20-Mar-2025 13:33:50 DEBUG GEOparse - SAMPLE: GSM26848\n",
      "20-Mar-2025 13:33:50 DEBUG GEOparse - SAMPLE: GSM26849\n",
      "20-Mar-2025 13:33:50 DEBUG GEOparse - SAMPLE: GSM26850\n",
      "20-Mar-2025 13:33:51 DEBUG GEOparse - SAMPLE: GSM26851\n",
      "20-Mar-2025 13:33:51 DEBUG GEOparse - SAMPLE: GSM26852\n",
      "20-Mar-2025 13:33:51 DEBUG GEOparse - SAMPLE: GSM26853\n",
      "20-Mar-2025 13:33:51 DEBUG GEOparse - SAMPLE: GSM26854\n",
      "20-Mar-2025 13:33:51 DEBUG GEOparse - SAMPLE: GSM26855\n",
      "20-Mar-2025 13:33:51 DEBUG GEOparse - SAMPLE: GSM26856\n",
      "20-Mar-2025 13:33:51 DEBUG GEOparse - SAMPLE: GSM26857\n",
      "20-Mar-2025 13:33:52 DEBUG GEOparse - SAMPLE: GSM26858\n",
      "20-Mar-2025 13:33:52 DEBUG GEOparse - SAMPLE: GSM26859\n",
      "20-Mar-2025 13:33:52 DEBUG GEOparse - SAMPLE: GSM26860\n",
      "20-Mar-2025 13:33:52 DEBUG GEOparse - SAMPLE: GSM26861\n",
      "20-Mar-2025 13:33:52 DEBUG GEOparse - SAMPLE: GSM26862\n",
      "20-Mar-2025 13:33:52 DEBUG GEOparse - SAMPLE: GSM26863\n",
      "20-Mar-2025 13:33:53 DEBUG GEOparse - SAMPLE: GSM26864\n",
      "20-Mar-2025 13:33:53 DEBUG GEOparse - SAMPLE: GSM26865\n",
      "20-Mar-2025 13:33:53 DEBUG GEOparse - SAMPLE: GSM26866\n"
     ]
    },
    {
     "name": "stdout",
     "output_type": "stream",
     "text": [
      "GSE metadata saved successfully!\n"
     ]
    }
   ],
   "source": [
    "# Downloading the data\n",
    "gse = GEOparse.get_GEO(geo=\"GSE1563\", destdir=\"./\")\n",
    "\n",
    "# Save gse metadata\n",
    "gse_metadata = gse.metadata\n",
    "with open(\"gse_metadata.json\", \"w\") as f:\n",
    "    json.dump(gse_metadata, f, indent=4)\n",
    "\n",
    "print(\"GSE metadata saved successfully!\")"
   ]
  },
  {
   "cell_type": "code",
   "execution_count": 5,
   "metadata": {},
   "outputs": [
    {
     "name": "stdout",
     "output_type": "stream",
     "text": [
      "All gsm metadata saved successfully!\n"
     ]
    }
   ],
   "source": [
    "# Extract all gsms\n",
    "gsms = gse.gsms\n",
    "\n",
    "# Save all gsm metadata\n",
    "gsm_metadata = {gsm: gsms[gsm].metadata for gsm in gsms}\n",
    "\n",
    "\n",
    "with open(\"gsm_metadata.json\", \"w\") as f:\n",
    "    json.dump(gsm_metadata, f, indent=4)\n",
    "\n",
    "print(\"All gsm metadata saved successfully!\")\n",
    "\n"
   ]
  },
  {
   "cell_type": "code",
   "execution_count": 6,
   "metadata": {},
   "outputs": [
    {
     "name": "stdout",
     "output_type": "stream",
     "text": [
      "\n",
      "GSM example:\n",
      "Name:  GSM26805\n",
      "Metadata:\n",
      " - title : C1PBL\n",
      " - geo_accession : GSM26805\n",
      " - status : Public on Jul 14 2004\n",
      " - submission_date : Jul 14 2004\n",
      " - last_update_date : Mar 16 2009\n",
      " - type : RNA\n",
      " - channel_count : 1\n",
      " - source_name_ch1 : PBL\n",
      " - organism_ch1 : Homo sapiens\n",
      " - taxid_ch1 : 9606\n",
      " - molecule_ch1 : total RNA\n",
      " - description : Clinical status: control healthy blood donor, Age: unknown, Sex: unknown, Immunosupression: none, Histopathology: none, Donor type: NA, Scr (mg/dL): unknown, Days post transplant: NA, Abbreviations used in sample description: Abreviations used to describe patient samples include the following: BX - Biopsy; PBL- Peripheral Blood Lymphocytes; CsA -Cyclosporine; MMF - Mycophenolate Mofetil; P - Prednisone; FK - Tacrolimus;  SRL - Sirolimus; CAD -Cadaveric;  LD - Live Donor; Scr - Serum Creatinine; ATN - Acute Tubular Necrosis CNI - Calcineurin Inhibitor; FSGS - Focal Segmental Glomerulosclerosis, Keywords = DNA microarrays, gene expression, kidney, rejection, transplant\n",
      " - platform_id : GPL8300\n",
      " - contact_name : Steven,,Head\n",
      " - contact_email : shead@scripps.edu\n",
      " - contact_phone : 858 784-2263\n",
      " - contact_institute : The Scripps Research Institute\n",
      " - contact_address : 10550 N Torrey Pines Rd\n",
      " - contact_city : La Jolla\n",
      " - contact_state : CA\n",
      " - contact_zip/postal_code : 92037\n",
      " - contact_country : USA\n",
      " - supplementary_file : ftp://ftp.ncbi.nlm.nih.gov/geo/samples/GSM26nnn/GSM26805/suppl/GSM26805.CEL.gz, ftp://ftp.ncbi.nlm.nih.gov/geo/samples/GSM26nnn/GSM26805/suppl/GSM26805.EXP.gz\n",
      " - series_id : GSE1563\n",
      " - data_row_count : 12625\n",
      "Table data:\n",
      "            ID_REF  VALUE ABS_CALL  DETECTION P-VALUE\n",
      "0   AFFX-MurIL2_at  211.5        A            0.50000\n",
      "1  AFFX-MurIL10_at  190.2        A            0.23906\n",
      "2   AFFX-MurIL4_at   96.5        A            0.68628\n",
      "3   AFFX-MurFAS_at   80.8        A            0.55935\n",
      "4   AFFX-BioB-5_at  847.3        P            0.00202\n"
     ]
    }
   ],
   "source": [
    "print()\n",
    "print(\"GSM example:\")\n",
    "for gsm_name, gsm in gse.gsms.items():\n",
    "    print(\"Name: \", gsm_name)\n",
    "    print(\"Metadata:\",)\n",
    "    for key, value in gsm.metadata.items():\n",
    "        print(\" - %s : %s\" % (key, \", \".join(value)))\n",
    "    print (\"Table data:\",)\n",
    "    print (gsm.table.head())\n",
    "    break\n"
   ]
  },
  {
   "cell_type": "code",
   "execution_count": 7,
   "metadata": {},
   "outputs": [
    {
     "name": "stdout",
     "output_type": "stream",
     "text": [
      "Sample rows saved to CSV!\n"
     ]
    }
   ],
   "source": [
    "sampled_rows = []\n",
    "\n",
    "for gsm_id, gsm in gsms.items():\n",
    "    table = gsm.table\n",
    "    if len(table) >= 5: \n",
    "        sampled_rows.append(table.sample(5))  # Randomly sample 5 rows from each GSM\n",
    "\n",
    "sampled_df = pd.concat(sampled_rows)\n",
    "\n",
    "# Save to CSV\n",
    "sampled_df.to_csv(\"gsm_sample_data.csv\", index=False)\n",
    "\n",
    "print(\"Sample rows saved to CSV!\")\n"
   ]
  },
  {
   "cell_type": "markdown",
   "metadata": {},
   "source": [
    "3. collecting discription information about 'GSM' from the official NBCI website."
   ]
  },
  {
   "cell_type": "code",
   "execution_count": 11,
   "metadata": {},
   "outputs": [
    {
     "name": "stdout",
     "output_type": "stream",
     "text": [
      "GSM description saved successfully!\n"
     ]
    }
   ],
   "source": [
    "import requests\n",
    "from bs4 import BeautifulSoup\n",
    "\n",
    "def fetch_gsm_description():\n",
    "    \"\"\"\n",
    "    scrapes the NCBI GEO website to retrieve a detailed description of what a GSM (GEO Sample) is.\n",
    "    \"\"\"\n",
    "    url = \"https://www.ncbi.nlm.nih.gov/geo/info/overview.html\"\n",
    "    response = requests.get(url)\n",
    "\n",
    "    if response.status_code == 200:\n",
    "        soup = BeautifulSoup(response.text, \"html.parser\")\n",
    "\n",
    "        # try to extract relevant sections\n",
    "        sections = soup.find_all(\"p\") \n",
    "        description = \"\\n\".join([p.get_text(strip=True) for p in sections if \"sample\" in p.get_text().lower()])\n",
    "\n",
    "        if not description:\n",
    "            description = \"no detailed GSM description\"\n",
    "\n",
    "        # save to file\n",
    "        with open(\"gsm_description.txt\", \"w\") as f:\n",
    "            f.write(description)\n",
    "\n",
    "        print(\"GSM description saved successfully!\")\n",
    "    else:\n",
    "        print(\"Failed to retrieve the page.\")\n",
    "\n",
    "# run the function\n",
    "fetch_gsm_description()\n",
    "\n"
   ]
  },
  {
   "cell_type": "markdown",
   "metadata": {},
   "source": [
    "4. generating prompt"
   ]
  },
  {
   "cell_type": "code",
   "execution_count": 8,
   "metadata": {},
   "outputs": [
    {
     "name": "stdout",
     "output_type": "stream",
     "text": [
      "Prompt saved successfully!\n"
     ]
    }
   ],
   "source": [
    "# Define prompt\n",
    "prompt_text = \"\"\"This dataset comes from the Gene Expression Omnibus (GEO) and includes multiple GSM (GEO Sample) records. Each GSM represents an individual biological sample, containing metadata, experimental conditions, and gene expression values. The dataset also includes GSE (GEO Series) metadata, which provides context for the overall study.\n",
    "\n",
    "### Provided files:\n",
    "1. gse_metadata.json – Metadata about the GSE dataset.  \n",
    "2. gsm_metadata.json – Compiled metadata for all GSMs.  \n",
    "3. gsm_sample_data.csv – Sampled rows from the GSM data tables.  \n",
    "4. prompt.txt – This prompt document.  \n",
    "5. gsm_description.txt – General description of GSMs and GSEs.  \n",
    "\n",
    "### Task:\n",
    "Using these files, generate structured column descriptions that:  \n",
    "- Clearly explain each column’s meaning  \n",
    "- Reflect the biological and experimental significance of the data  \n",
    "- Maintain consistency across GSM samples  \n",
    "- Provide concise yet informative descriptions  \n",
    "\n",
    "### Output format:\n",
    "The column descriptions should be in JSON format, where each column is mapped to a short but clear explanation.  \n",
    "\n",
    "Example:  \n",
    "{\n",
    "  \"gene_id\": \"Unique identifier for each gene in the dataset.\",\n",
    "  \"expression_value\": \"The measured intensity of gene expression in the sample.\",\n",
    "  \"sample_condition\": \"The biological or experimental condition associated with the sample.\"\n",
    "}\n",
    "\n",
    "Make sure the descriptions are accurate, easy to understand, and relevant to the dataset.\"\"\"\n",
    "\n",
    "# Save to a file\n",
    "with open(\"prompt.txt\", \"w\") as f:\n",
    "    f.write(prompt_text)\n",
    "\n",
    "print(\"Prompt saved successfully!\")\n"
   ]
  },
  {
   "cell_type": "markdown",
   "metadata": {},
   "source": [
    "5. setup and use of the google generative ai model - gemini to generate column discription for the GSM table."
   ]
  },
  {
   "cell_type": "code",
   "execution_count": 9,
   "metadata": {},
   "outputs": [
    {
     "name": "stdout",
     "output_type": "stream",
     "text": [
      "Requirement already satisfied: google-generativeai in c:\\users\\hp\\column_description_for_gsm\\venv\\lib\\site-packages (0.8.4)\n",
      "Requirement already satisfied: google-ai-generativelanguage==0.6.15 in c:\\users\\hp\\column_description_for_gsm\\venv\\lib\\site-packages (from google-generativeai) (0.6.15)\n",
      "Requirement already satisfied: google-api-core in c:\\users\\hp\\column_description_for_gsm\\venv\\lib\\site-packages (from google-generativeai) (2.24.2)\n",
      "Requirement already satisfied: google-api-python-client in c:\\users\\hp\\column_description_for_gsm\\venv\\lib\\site-packages (from google-generativeai) (2.164.0)\n",
      "Requirement already satisfied: google-auth>=2.15.0 in c:\\users\\hp\\column_description_for_gsm\\venv\\lib\\site-packages (from google-generativeai) (2.38.0)\n",
      "Requirement already satisfied: protobuf in c:\\users\\hp\\column_description_for_gsm\\venv\\lib\\site-packages (from google-generativeai) (5.29.3)\n",
      "Requirement already satisfied: pydantic in c:\\users\\hp\\column_description_for_gsm\\venv\\lib\\site-packages (from google-generativeai) (2.10.6)\n",
      "Requirement already satisfied: tqdm in c:\\users\\hp\\column_description_for_gsm\\venv\\lib\\site-packages (from google-generativeai) (4.67.1)\n",
      "Requirement already satisfied: typing-extensions in c:\\users\\hp\\column_description_for_gsm\\venv\\lib\\site-packages (from google-generativeai) (4.12.2)\n",
      "Requirement already satisfied: proto-plus<2.0.0dev,>=1.22.3 in c:\\users\\hp\\column_description_for_gsm\\venv\\lib\\site-packages (from google-ai-generativelanguage==0.6.15->google-generativeai) (1.26.1)\n",
      "Requirement already satisfied: cachetools<6.0,>=2.0.0 in c:\\users\\hp\\column_description_for_gsm\\venv\\lib\\site-packages (from google-auth>=2.15.0->google-generativeai) (5.5.2)\n",
      "Requirement already satisfied: pyasn1-modules>=0.2.1 in c:\\users\\hp\\column_description_for_gsm\\venv\\lib\\site-packages (from google-auth>=2.15.0->google-generativeai) (0.4.1)\n",
      "Requirement already satisfied: rsa<5,>=3.1.4 in c:\\users\\hp\\column_description_for_gsm\\venv\\lib\\site-packages (from google-auth>=2.15.0->google-generativeai) (4.9)\n",
      "Requirement already satisfied: googleapis-common-protos<2.0.0,>=1.56.2 in c:\\users\\hp\\column_description_for_gsm\\venv\\lib\\site-packages (from google-api-core->google-generativeai) (1.69.2)\n",
      "Requirement already satisfied: requests<3.0.0,>=2.18.0 in c:\\users\\hp\\column_description_for_gsm\\venv\\lib\\site-packages (from google-api-core->google-generativeai) (2.32.3)\n",
      "Requirement already satisfied: httplib2<1.dev0,>=0.19.0 in c:\\users\\hp\\column_description_for_gsm\\venv\\lib\\site-packages (from google-api-python-client->google-generativeai) (0.22.0)\n",
      "Requirement already satisfied: google-auth-httplib2<1.0.0,>=0.2.0 in c:\\users\\hp\\column_description_for_gsm\\venv\\lib\\site-packages (from google-api-python-client->google-generativeai) (0.2.0)\n",
      "Requirement already satisfied: uritemplate<5,>=3.0.1 in c:\\users\\hp\\column_description_for_gsm\\venv\\lib\\site-packages (from google-api-python-client->google-generativeai) (4.1.1)\n",
      "Requirement already satisfied: annotated-types>=0.6.0 in c:\\users\\hp\\column_description_for_gsm\\venv\\lib\\site-packages (from pydantic->google-generativeai) (0.7.0)\n",
      "Requirement already satisfied: pydantic-core==2.27.2 in c:\\users\\hp\\column_description_for_gsm\\venv\\lib\\site-packages (from pydantic->google-generativeai) (2.27.2)\n",
      "Requirement already satisfied: colorama in c:\\users\\hp\\column_description_for_gsm\\venv\\lib\\site-packages (from tqdm->google-generativeai) (0.4.6)\n",
      "Requirement already satisfied: grpcio<2.0dev,>=1.33.2 in c:\\users\\hp\\column_description_for_gsm\\venv\\lib\\site-packages (from google-api-core->google-generativeai) (1.71.0)\n",
      "Requirement already satisfied: grpcio-status<2.0.dev0,>=1.33.2 in c:\\users\\hp\\column_description_for_gsm\\venv\\lib\\site-packages (from google-api-core->google-generativeai) (1.71.0)\n",
      "Requirement already satisfied: pyparsing!=3.0.0,!=3.0.1,!=3.0.2,!=3.0.3,<4,>=2.4.2 in c:\\users\\hp\\column_description_for_gsm\\venv\\lib\\site-packages (from httplib2<1.dev0,>=0.19.0->google-api-python-client->google-generativeai) (3.2.1)\n",
      "Requirement already satisfied: pyasn1<0.7.0,>=0.4.6 in c:\\users\\hp\\column_description_for_gsm\\venv\\lib\\site-packages (from pyasn1-modules>=0.2.1->google-auth>=2.15.0->google-generativeai) (0.6.1)\n",
      "Requirement already satisfied: charset-normalizer<4,>=2 in c:\\users\\hp\\column_description_for_gsm\\venv\\lib\\site-packages (from requests<3.0.0,>=2.18.0->google-api-core->google-generativeai) (3.4.1)\n",
      "Requirement already satisfied: idna<4,>=2.5 in c:\\users\\hp\\column_description_for_gsm\\venv\\lib\\site-packages (from requests<3.0.0,>=2.18.0->google-api-core->google-generativeai) (3.10)\n",
      "Requirement already satisfied: urllib3<3,>=1.21.1 in c:\\users\\hp\\column_description_for_gsm\\venv\\lib\\site-packages (from requests<3.0.0,>=2.18.0->google-api-core->google-generativeai) (2.3.0)\n",
      "Requirement already satisfied: certifi>=2017.4.17 in c:\\users\\hp\\column_description_for_gsm\\venv\\lib\\site-packages (from requests<3.0.0,>=2.18.0->google-api-core->google-generativeai) (2025.1.31)\n",
      "Note: you may need to restart the kernel to use updated packages.\n"
     ]
    },
    {
     "name": "stderr",
     "output_type": "stream",
     "text": [
      "\n",
      "[notice] A new release of pip available: 22.3.1 -> 25.0.1\n",
      "[notice] To update, run: python.exe -m pip install --upgrade pip\n"
     ]
    }
   ],
   "source": [
    "pip install google-generativeai"
   ]
  },
  {
   "cell_type": "code",
   "execution_count": 10,
   "metadata": {},
   "outputs": [
    {
     "name": "stdout",
     "output_type": "stream",
     "text": [
      "Requirement already satisfied: python-dotenv in c:\\users\\hp\\column_description_for_gsm\\venv\\lib\\site-packages (1.0.1)\n",
      "Note: you may need to restart the kernel to use updated packages.\n"
     ]
    },
    {
     "name": "stderr",
     "output_type": "stream",
     "text": [
      "\n",
      "[notice] A new release of pip available: 22.3.1 -> 25.0.1\n",
      "[notice] To update, run: python.exe -m pip install --upgrade pip\n"
     ]
    }
   ],
   "source": [
    "pip install python-dotenv"
   ]
  },
  {
   "cell_type": "code",
   "execution_count": 11,
   "metadata": {},
   "outputs": [
    {
     "name": "stderr",
     "output_type": "stream",
     "text": [
      "c:\\Users\\HP\\column_description_for_gsm\\venv\\Lib\\site-packages\\tqdm\\auto.py:21: TqdmWarning: IProgress not found. Please update jupyter and ipywidgets. See https://ipywidgets.readthedocs.io/en/stable/user_install.html\n",
      "  from .autonotebook import tqdm as notebook_tqdm\n"
     ]
    }
   ],
   "source": [
    "import google.generativeai as genai\n",
    "\n",
    "from dotenv import load_dotenv\n",
    "load_dotenv()\n",
    "\n",
    "API_KEY = os.getenv(\"GOOGLE_API_KEY\")\n",
    "\n",
    "genai.configure(api_key=API_KEY)\n"
   ]
  },
  {
   "cell_type": "code",
   "execution_count": 12,
   "metadata": {},
   "outputs": [],
   "source": [
    "# Load GSE metadata\n",
    "with open(\"gse_metadata.json\", \"r\") as f:\n",
    "    gse_metadata = json.load(f)\n",
    "\n",
    "# Load GSM metadata\n",
    "with open(\"gsm_metadata.json\", \"r\") as f:\n",
    "    gsm_metadata = json.load(f)\n",
    "\n",
    "# Load Sample Data\n",
    "sampled_data = pd.read_csv(\"gsm_sample_data.csv\")\n",
    "\n",
    "# Load Prompt\n",
    "with open(\"prompt.txt\", \"r\") as f:\n",
    "    prompt_message = f.read()\n",
    "\n",
    "# Load Dataset Description\n",
    "with open(\"gsm_description.txt\", \"r\") as f:\n",
    "    dataset_description = f.read()\n"
   ]
  },
  {
   "cell_type": "code",
   "execution_count": 13,
   "metadata": {},
   "outputs": [
    {
     "name": "stdout",
     "output_type": "stream",
     "text": [
      "Column descriptions generated and saved successfully in output\\column_descriptions.json!\n"
     ]
    }
   ],
   "source": [
    "# Define the Gemini model\n",
    "model = genai.GenerativeModel(\"gemini-1.5-pro-latest\")\n",
    "\n",
    "# Create the structured input for the model\n",
    "input_text = f\"\"\"{prompt_message}\n",
    "\n",
    "### Dataset Description:\n",
    "{dataset_description}\n",
    "\n",
    "### GSE Metadata:\n",
    "{json.dumps(gse_metadata, indent=2)}\n",
    "\n",
    "### GSM Metadata (First 5 samples):\n",
    "{json.dumps(dict(list(gsm_metadata.items())[:5]), indent=2)}\n",
    "\n",
    "### Sampled Data:\n",
    "{sampled_data.head().to_json()}\n",
    "\n",
    "Generate a JSON mapping of column names to their descriptions.\n",
    "\"\"\"\n",
    "\n",
    "# Generate column descriptions\n",
    "response = model.generate_content(input_text)\n",
    "\n",
    "# Save the response\n",
    "\n",
    "\n",
    "output_folder = \"output\"\n",
    "os.makedirs(output_folder, exist_ok=True)\n",
    "output_file_path = os.path.join(output_folder, \"column_descriptions.json\")\n",
    "\n",
    "\n",
    "column_descriptions = response.text\n",
    "with open(output_file_path, \"w\") as f:\n",
    "    f.write(column_descriptions)\n",
    "\n",
    "print(f\"Column descriptions generated and saved successfully in {output_file_path}!\")\n"
   ]
  },
  {
   "cell_type": "code",
   "execution_count": 14,
   "metadata": {},
   "outputs": [
    {
     "name": "stdout",
     "output_type": "stream",
     "text": [
      "```json\n",
      "{\n",
      "  \"ID_REF\": \"Unique identifier for the gene, corresponding to a specific probe on the microarray platform (GPL8300).\",\n",
      "  \"VALUE\": \"The measured expression level of the gene.  This value represents the intensity of the signal detected by the probe, reflecting the abundance of the corresponding mRNA transcript in the sample.\",\n",
      "  \"ABS_CALL\": \"A qualitative assessment of the reliability of the expression measurement. 'A' indicates the signal is reliably detected as present (Absent/Present call). 'P' indicates the signal is marginally detected, potentially present, but with lower confidence. 'M' (if present in the full dataset, but not sampled data) indicates the signal is not detected and considered absent.\",\n",
      "  \"DETECTION P-VALUE\": \"The probability that the observed expression signal is due to random noise. Lower p-values indicate higher confidence in the detection of gene expression. This value is used in determining the ABS_CALL.\"\n",
      "}\n",
      "```\n",
      "\n"
     ]
    }
   ],
   "source": [
    "# Open and read the JSON file\n",
    "with open(\"./output/column_descriptions.json\", \"r\") as f:\n",
    "    column_descriptions = f.read()\n",
    "\n",
    "# Print the contents of the file\n",
    "print(column_descriptions)\n"
   ]
  },
  {
   "cell_type": "code",
   "execution_count": null,
   "metadata": {},
   "outputs": [],
   "source": []
  }
 ],
 "metadata": {
  "kernelspec": {
   "display_name": "venv",
   "language": "python",
   "name": "python3"
  },
  "language_info": {
   "codemirror_mode": {
    "name": "ipython",
    "version": 3
   },
   "file_extension": ".py",
   "mimetype": "text/x-python",
   "name": "python",
   "nbconvert_exporter": "python",
   "pygments_lexer": "ipython3",
   "version": "3.11.2"
  }
 },
 "nbformat": 4,
 "nbformat_minor": 2
}
